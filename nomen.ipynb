{
 "cells": [
  {
   "cell_type": "markdown",
   "id": "aa8443c9-e147-4b79-a13e-bf21889d8101",
   "metadata": {},
   "source": [
    "## Statistical Significance of Names"
   ]
  },
  {
   "cell_type": "code",
   "execution_count": 20,
   "id": "b41fd8d0-b3fe-45ff-9e04-28d121313825",
   "metadata": {},
   "outputs": [],
   "source": [
    "#==== import needed libs ====#\n",
    "from dateutil.relativedelta import relativedelta\n",
    "import matplotlib.pyplot as plt\n",
    "from matplotlib import pyplot\n",
    "from scipy import stats\n",
    "import pandas as pd\n",
    "import numpy as np\n",
    "import datetime\n",
    "import requests\n",
    "import math\n",
    "import lxml\n",
    "import time\n",
    "import csv\n",
    "import io"
   ]
  },
  {
   "cell_type": "code",
   "execution_count": 2,
   "id": "c98d9107-c308-4568-af8a-e05868dff495",
   "metadata": {},
   "outputs": [
    {
     "data": {
      "text/html": [
       "<div>\n",
       "<style scoped>\n",
       "    .dataframe tbody tr th:only-of-type {\n",
       "        vertical-align: middle;\n",
       "    }\n",
       "\n",
       "    .dataframe tbody tr th {\n",
       "        vertical-align: top;\n",
       "    }\n",
       "\n",
       "    .dataframe thead th {\n",
       "        text-align: right;\n",
       "    }\n",
       "</style>\n",
       "<table border=\"1\" class=\"dataframe\">\n",
       "  <thead>\n",
       "    <tr style=\"text-align: right;\">\n",
       "      <th></th>\n",
       "      <th>Last Name</th>\n",
       "      <th>First Name</th>\n",
       "      <th>Middle Name</th>\n",
       "      <th>Suffix</th>\n",
       "      <th>Grade</th>\n",
       "      <th>Lineal/Precedence</th>\n",
       "      <th>Year Group</th>\n",
       "      <th>Designator</th>\n",
       "      <th>COMPCAT</th>\n",
       "      <th>Date of Rank</th>\n",
       "      <th>Retire eligibility year</th>\n",
       "      <th>Sex</th>\n",
       "      <th>Original Source</th>\n",
       "    </tr>\n",
       "  </thead>\n",
       "  <tbody>\n",
       "    <tr>\n",
       "      <th>0</th>\n",
       "      <td>AQUILINO</td>\n",
       "      <td>JOHN</td>\n",
       "      <td>CHRISTOPHER</td>\n",
       "      <td>&lt;NA&gt;</td>\n",
       "      <td>ADM</td>\n",
       "      <td>400.0</td>\n",
       "      <td>84.0</td>\n",
       "      <td>1310</td>\n",
       "      <td>URL</td>\n",
       "      <td>5/17/2018 0:00</td>\n",
       "      <td>2004</td>\n",
       "      <td>M</td>\n",
       "      <td>010</td>\n",
       "    </tr>\n",
       "    <tr>\n",
       "      <th>1</th>\n",
       "      <td>BURKE</td>\n",
       "      <td>ROBERT</td>\n",
       "      <td>PETER</td>\n",
       "      <td>&lt;NA&gt;</td>\n",
       "      <td>ADM</td>\n",
       "      <td>600.0</td>\n",
       "      <td>85.0</td>\n",
       "      <td>1120</td>\n",
       "      <td>URL</td>\n",
       "      <td>6/10/2019 0:00</td>\n",
       "      <td>2002</td>\n",
       "      <td>M</td>\n",
       "      <td>060</td>\n",
       "    </tr>\n",
       "    <tr>\n",
       "      <th>2</th>\n",
       "      <td>CALDWELL</td>\n",
       "      <td>JAMES</td>\n",
       "      <td>FRANKLIN</td>\n",
       "      <td>JR</td>\n",
       "      <td>ADM</td>\n",
       "      <td>100.0</td>\n",
       "      <td>80.0</td>\n",
       "      <td>1120</td>\n",
       "      <td>URL</td>\n",
       "      <td>8/14/2015 0:00</td>\n",
       "      <td>2001</td>\n",
       "      <td>M</td>\n",
       "      <td>010</td>\n",
       "    </tr>\n",
       "    <tr>\n",
       "      <th>3</th>\n",
       "      <td>GILDAY</td>\n",
       "      <td>MICHAEL</td>\n",
       "      <td>MARTIN</td>\n",
       "      <td>&lt;NA&gt;</td>\n",
       "      <td>ADM</td>\n",
       "      <td>700.0</td>\n",
       "      <td>85.0</td>\n",
       "      <td>1110</td>\n",
       "      <td>URL</td>\n",
       "      <td>8/22/2019 0:00</td>\n",
       "      <td>2005</td>\n",
       "      <td>M</td>\n",
       "      <td>010</td>\n",
       "    </tr>\n",
       "    <tr>\n",
       "      <th>4</th>\n",
       "      <td>GRADY</td>\n",
       "      <td>CHRISTOPHER</td>\n",
       "      <td>WATSON</td>\n",
       "      <td>&lt;NA&gt;</td>\n",
       "      <td>ADM</td>\n",
       "      <td>300.0</td>\n",
       "      <td>84.0</td>\n",
       "      <td>1110</td>\n",
       "      <td>URL</td>\n",
       "      <td>5/4/2018 0:00</td>\n",
       "      <td>2004</td>\n",
       "      <td>M</td>\n",
       "      <td>040</td>\n",
       "    </tr>\n",
       "  </tbody>\n",
       "</table>\n",
       "</div>"
      ],
      "text/plain": [
       "  Last Name   First Name  Middle Name Suffix Grade  Lineal/Precedence  \\\n",
       "0  AQUILINO         JOHN  CHRISTOPHER   <NA>   ADM              400.0   \n",
       "1     BURKE       ROBERT        PETER   <NA>   ADM              600.0   \n",
       "2  CALDWELL        JAMES     FRANKLIN     JR   ADM              100.0   \n",
       "3    GILDAY      MICHAEL       MARTIN   <NA>   ADM              700.0   \n",
       "4     GRADY  CHRISTOPHER       WATSON   <NA>   ADM              300.0   \n",
       "\n",
       "   Year Group  Designator COMPCAT    Date of Rank Retire eligibility year Sex  \\\n",
       "0        84.0        1310     URL  5/17/2018 0:00                    2004   M   \n",
       "1        85.0        1120     URL  6/10/2019 0:00                    2002   M   \n",
       "2        80.0        1120     URL  8/14/2015 0:00                    2001   M   \n",
       "3        85.0        1110     URL  8/22/2019 0:00                    2005   M   \n",
       "4        84.0        1110     URL   5/4/2018 0:00                    2004   M   \n",
       "\n",
       "  Original Source  \n",
       "0             010  \n",
       "1             060  \n",
       "2             010  \n",
       "3             010  \n",
       "4             040  "
      ]
     },
     "execution_count": 2,
     "metadata": {},
     "output_type": "execute_result"
    }
   ],
   "source": [
    "names = pd.read_csv('alnavofc.csv', dtype={'Last Name': 'string', 'First Name': 'string', 'Middle Name': 'string', 'Suffix': 'string', 'Grade': 'string', 'Lineal/Precedence': np.float64, 'Year Group': np.float64, 'Designator': np.int32, \n",
    "                                           'COMPCAT': 'string', 'Date of Rank': 'string', 'Reture eligibility year': np.int32, 'Sex': 'string', 'Original Source': 'string'})\n",
    "names.head()"
   ]
  },
  {
   "cell_type": "code",
   "execution_count": 3,
   "id": "cfee6c91-4f2f-4923-b57d-6fadd1892fb3",
   "metadata": {},
   "outputs": [
    {
     "data": {
      "text/html": [
       "<div>\n",
       "<style scoped>\n",
       "    .dataframe tbody tr th:only-of-type {\n",
       "        vertical-align: middle;\n",
       "    }\n",
       "\n",
       "    .dataframe tbody tr th {\n",
       "        vertical-align: top;\n",
       "    }\n",
       "\n",
       "    .dataframe thead th {\n",
       "        text-align: right;\n",
       "    }\n",
       "</style>\n",
       "<table border=\"1\" class=\"dataframe\">\n",
       "  <thead>\n",
       "    <tr style=\"text-align: right;\">\n",
       "      <th></th>\n",
       "      <th>Last Name</th>\n",
       "      <th>First Name</th>\n",
       "      <th>Middle Name</th>\n",
       "      <th>Suffix</th>\n",
       "      <th>Grade</th>\n",
       "      <th>Lineal/Precedence</th>\n",
       "      <th>Year Group</th>\n",
       "      <th>Designator</th>\n",
       "      <th>COMPCAT</th>\n",
       "      <th>Date of Rank</th>\n",
       "      <th>Retire eligibility year</th>\n",
       "      <th>Sex</th>\n",
       "      <th>Original Source</th>\n",
       "    </tr>\n",
       "  </thead>\n",
       "  <tbody>\n",
       "    <tr>\n",
       "      <th>0</th>\n",
       "      <td>AQUILINO</td>\n",
       "      <td>JOHN</td>\n",
       "      <td>CHRISTOPHER</td>\n",
       "      <td></td>\n",
       "      <td>ADM</td>\n",
       "      <td>400.0</td>\n",
       "      <td>84.0</td>\n",
       "      <td>1310</td>\n",
       "      <td>URL</td>\n",
       "      <td>5/17/2018 0:00</td>\n",
       "      <td>2004</td>\n",
       "      <td>M</td>\n",
       "      <td>010</td>\n",
       "    </tr>\n",
       "    <tr>\n",
       "      <th>1</th>\n",
       "      <td>BURKE</td>\n",
       "      <td>ROBERT</td>\n",
       "      <td>PETER</td>\n",
       "      <td></td>\n",
       "      <td>ADM</td>\n",
       "      <td>600.0</td>\n",
       "      <td>85.0</td>\n",
       "      <td>1120</td>\n",
       "      <td>URL</td>\n",
       "      <td>6/10/2019 0:00</td>\n",
       "      <td>2002</td>\n",
       "      <td>M</td>\n",
       "      <td>060</td>\n",
       "    </tr>\n",
       "    <tr>\n",
       "      <th>2</th>\n",
       "      <td>CALDWELL</td>\n",
       "      <td>JAMES</td>\n",
       "      <td>FRANKLIN</td>\n",
       "      <td>JR</td>\n",
       "      <td>ADM</td>\n",
       "      <td>100.0</td>\n",
       "      <td>80.0</td>\n",
       "      <td>1120</td>\n",
       "      <td>URL</td>\n",
       "      <td>8/14/2015 0:00</td>\n",
       "      <td>2001</td>\n",
       "      <td>M</td>\n",
       "      <td>010</td>\n",
       "    </tr>\n",
       "    <tr>\n",
       "      <th>3</th>\n",
       "      <td>GILDAY</td>\n",
       "      <td>MICHAEL</td>\n",
       "      <td>MARTIN</td>\n",
       "      <td></td>\n",
       "      <td>ADM</td>\n",
       "      <td>700.0</td>\n",
       "      <td>85.0</td>\n",
       "      <td>1110</td>\n",
       "      <td>URL</td>\n",
       "      <td>8/22/2019 0:00</td>\n",
       "      <td>2005</td>\n",
       "      <td>M</td>\n",
       "      <td>010</td>\n",
       "    </tr>\n",
       "    <tr>\n",
       "      <th>4</th>\n",
       "      <td>GRADY</td>\n",
       "      <td>CHRISTOPHER</td>\n",
       "      <td>WATSON</td>\n",
       "      <td></td>\n",
       "      <td>ADM</td>\n",
       "      <td>300.0</td>\n",
       "      <td>84.0</td>\n",
       "      <td>1110</td>\n",
       "      <td>URL</td>\n",
       "      <td>5/4/2018 0:00</td>\n",
       "      <td>2004</td>\n",
       "      <td>M</td>\n",
       "      <td>040</td>\n",
       "    </tr>\n",
       "  </tbody>\n",
       "</table>\n",
       "</div>"
      ],
      "text/plain": [
       "  Last Name   First Name  Middle Name Suffix Grade  Lineal/Precedence  \\\n",
       "0  AQUILINO         JOHN  CHRISTOPHER          ADM              400.0   \n",
       "1     BURKE       ROBERT        PETER          ADM              600.0   \n",
       "2  CALDWELL        JAMES     FRANKLIN     JR   ADM              100.0   \n",
       "3    GILDAY      MICHAEL       MARTIN          ADM              700.0   \n",
       "4     GRADY  CHRISTOPHER       WATSON          ADM              300.0   \n",
       "\n",
       "   Year Group  Designator COMPCAT    Date of Rank Retire eligibility year Sex  \\\n",
       "0        84.0        1310     URL  5/17/2018 0:00                    2004   M   \n",
       "1        85.0        1120     URL  6/10/2019 0:00                    2002   M   \n",
       "2        80.0        1120     URL  8/14/2015 0:00                    2001   M   \n",
       "3        85.0        1110     URL  8/22/2019 0:00                    2005   M   \n",
       "4        84.0        1110     URL   5/4/2018 0:00                    2004   M   \n",
       "\n",
       "  Original Source  \n",
       "0             010  \n",
       "1             060  \n",
       "2             010  \n",
       "3             010  \n",
       "4             040  "
      ]
     },
     "execution_count": 3,
     "metadata": {},
     "output_type": "execute_result"
    }
   ],
   "source": [
    "names['Suffix'] = names['Suffix'].fillna('')\n",
    "names.head()"
   ]
  },
  {
   "cell_type": "code",
   "execution_count": 4,
   "id": "003e8d07-5413-4dbf-b835-774929df3fb7",
   "metadata": {},
   "outputs": [
    {
     "data": {
      "text/plain": [
       "count     74057\n",
       "unique    31234\n",
       "top       SMITH\n",
       "freq        556\n",
       "Name: Last Name, dtype: object"
      ]
     },
     "execution_count": 4,
     "metadata": {},
     "output_type": "execute_result"
    }
   ],
   "source": [
    "names['Last Name'].describe()"
   ]
  },
  {
   "cell_type": "code",
   "execution_count": 6,
   "id": "c7c8e8d9-ac93-446c-8789-324448dad95b",
   "metadata": {},
   "outputs": [],
   "source": [
    "names.to_csv('alnavofc2.csv')"
   ]
  },
  {
   "cell_type": "code",
   "execution_count": 9,
   "id": "e9bcc422-3226-481f-b356-08a1c64a40bc",
   "metadata": {},
   "outputs": [
    {
     "data": {
      "text/plain": [
       "Last Name                   object\n",
       "First Name                  object\n",
       "Middle Name                 object\n",
       "Suffix                      object\n",
       "Grade                       object\n",
       "Lineal/Precedence          float64\n",
       "Year Group                 float64\n",
       "Designator                   int64\n",
       "COMPCAT                     object\n",
       "Date of Rank                object\n",
       "Retire eligibility year     object\n",
       "Sex                         object\n",
       "Original Source             object\n",
       "dtype: object"
      ]
     },
     "execution_count": 9,
     "metadata": {},
     "output_type": "execute_result"
    }
   ],
   "source": [
    "names.dtypes"
   ]
  },
  {
   "cell_type": "code",
   "execution_count": 38,
   "id": "ca518798-14ae-4e4d-b60a-fa14e2d6ae76",
   "metadata": {},
   "outputs": [],
   "source": [
    "# names['Last Name'].value_counts()[:50].index.tolist()\n",
    "names[names['Last Name'].str.endswith('EL')]['Last Name'].value_counts().to_csv('last_names.csv')"
   ]
  },
  {
   "cell_type": "code",
   "execution_count": 1,
   "id": "3ab05ed6-e305-4d8c-808a-ed2d3229c2bd",
   "metadata": {},
   "outputs": [
    {
     "ename": "NameError",
     "evalue": "name 'names' is not defined",
     "output_type": "error",
     "traceback": [
      "\u001b[1;31m---------------------------------------------------------------------------\u001b[0m",
      "\u001b[1;31mNameError\u001b[0m                                 Traceback (most recent call last)",
      "Input \u001b[1;32mIn [1]\u001b[0m, in \u001b[0;36m<module>\u001b[1;34m\u001b[0m\n\u001b[1;32m----> 1\u001b[0m \u001b[43mnames\u001b[49m[names[\u001b[38;5;124m'\u001b[39m\u001b[38;5;124mLast Name\u001b[39m\u001b[38;5;124m'\u001b[39m]\u001b[38;5;241m.\u001b[39mstr\u001b[38;5;241m.\u001b[39mstartswith(\u001b[38;5;124m'\u001b[39m\u001b[38;5;124mSM\u001b[39m\u001b[38;5;124m'\u001b[39m)]\n",
      "\u001b[1;31mNameError\u001b[0m: name 'names' is not defined"
     ]
    }
   ],
   "source": [
    "names[names['Last Name'].str.startswith('SM')]"
   ]
  },
  {
   "cell_type": "code",
   "execution_count": 17,
   "id": "69cbeb04-f3ea-4e17-88c8-4d0151ed6ded",
   "metadata": {},
   "outputs": [],
   "source": [
    "# Get the count of each value\n",
    "value_counts = names['Last Name'].value_counts()\n",
    "\n",
    "# Select the values where the count is less than 3 (or 5 if you like)\n",
    "to_remove = value_counts[value_counts <= 2].index\n",
    "\n",
    "# Keep rows where the city column is not in to_remove\n",
    "df = names[~names['Last Name'].isin(to_remove)]"
   ]
  },
  {
   "cell_type": "code",
   "execution_count": 6,
   "id": "105b60ac-9199-4d73-a1c7-332400e765ab",
   "metadata": {},
   "outputs": [
    {
     "name": "stdout",
     "output_type": "stream",
     "text": [
      "<StringArray>\n",
      "['ADM', 'VADM', 'RDMU', 'RDML', 'CAPT', 'CDR', 'LCDR', 'LT', 'LTJG', 'ENS']\n",
      "Length: 10, dtype: string\n"
     ]
    }
   ],
   "source": [
    "print(df['Grade'].unique())"
   ]
  },
  {
   "cell_type": "code",
   "execution_count": 18,
   "id": "067d610d-c9f2-4385-8ffb-d8b5583424ca",
   "metadata": {},
   "outputs": [],
   "source": [
    "# df2 = df[df['Grade'] \n",
    "lower = df.loc[df['Grade'].isin(['LT', 'LTJG', 'ENS'])]\n",
    "upper = df.loc[df['Grade'].isin(['ADM', 'VADM', 'RDMU', 'RDML', 'CAPT', 'CDR', 'LCDR'])]"
   ]
  },
  {
   "cell_type": "code",
   "execution_count": 14,
   "id": "360e7044-babd-4fa9-b460-5b2482a14003",
   "metadata": {},
   "outputs": [
    {
     "data": {
      "text/plain": [
       "count       22097\n",
       "unique       2881\n",
       "top       MICHAEL\n",
       "freq          743\n",
       "Name: First Name, dtype: object"
      ]
     },
     "execution_count": 14,
     "metadata": {},
     "output_type": "execute_result"
    }
   ],
   "source": [
    "upper['First Name'].describe()"
   ]
  },
  {
   "cell_type": "code",
   "execution_count": 15,
   "id": "70f461c7-04ef-4151-a9a1-b1a8da260366",
   "metadata": {},
   "outputs": [
    {
     "data": {
      "text/plain": [
       "count       29203\n",
       "unique       4435\n",
       "top       MICHAEL\n",
       "freq          642\n",
       "Name: First Name, dtype: object"
      ]
     },
     "execution_count": 15,
     "metadata": {},
     "output_type": "execute_result"
    }
   ],
   "source": [
    "lower['First Name'].describe()"
   ]
  },
  {
   "cell_type": "code",
   "execution_count": 19,
   "id": "3b73208c-44dd-4764-82c7-4e6ac9d4cfd1",
   "metadata": {},
   "outputs": [
    {
     "data": {
      "text/plain": [
       "<AxesSubplot:>"
      ]
     },
     "execution_count": 19,
     "metadata": {},
     "output_type": "execute_result"
    },
    {
     "data": {
      "image/png": "[encoded data removed]",
      "text/plain": [
       "<Figure size 432x288 with 1 Axes>"
      ]
     },
     "metadata": {
      "needs_background": "light"
     },
     "output_type": "display_data"
    }
   ],
   "source": [
    "ax = lower['First Name'].value_counts().plot(kind='bar', color='blue', width=.75, legend=True, alpha=0.8)\n",
    "upper['First Name'].value_counts().plot(kind='bar', color='maroon', width=.5, alpha=1, legend=True)"
   ]
  },
  {
   "cell_type": "code",
   "execution_count": 23,
   "id": "78a2497b-9968-42a2-bc05-ba8bc57c0603",
   "metadata": {},
   "outputs": [
    {
     "ename": "ValueError",
     "evalue": "Data passed to ks_2samp must not be empty",
     "output_type": "error",
     "traceback": [
      "\u001b[0;31m---------------------------------------------------------------------------\u001b[0m",
      "\u001b[0;31mValueError\u001b[0m                                Traceback (most recent call last)",
      "\u001b[0;32m/tmp/ipykernel_402/278876043.py\u001b[0m in \u001b[0;36m<module>\u001b[0;34m\u001b[0m\n\u001b[1;32m      9\u001b[0m     right_index=True)\n\u001b[1;32m     10\u001b[0m \u001b[0;34m\u001b[0m\u001b[0m\n\u001b[0;32m---> 11\u001b[0;31m \u001b[0mstats\u001b[0m\u001b[0;34m.\u001b[0m\u001b[0mks_2samp\u001b[0m\u001b[0;34m(\u001b[0m\u001b[0mmerged\u001b[0m\u001b[0;34m.\u001b[0m\u001b[0mupper\u001b[0m\u001b[0;34m,\u001b[0m \u001b[0mmerged\u001b[0m\u001b[0;34m.\u001b[0m\u001b[0mlower\u001b[0m\u001b[0;34m)\u001b[0m\u001b[0;34m\u001b[0m\u001b[0;34m\u001b[0m\u001b[0m\n\u001b[0m",
      "\u001b[0;32m/srv/conda/envs/notebook/lib/python3.7/site-packages/scipy/stats/stats.py\u001b[0m in \u001b[0;36mks_2samp\u001b[0;34m(data1, data2, alternative, mode)\u001b[0m\n\u001b[1;32m   7440\u001b[0m     \u001b[0mn2\u001b[0m \u001b[0;34m=\u001b[0m \u001b[0mdata2\u001b[0m\u001b[0;34m.\u001b[0m\u001b[0mshape\u001b[0m\u001b[0;34m[\u001b[0m\u001b[0;36m0\u001b[0m\u001b[0;34m]\u001b[0m\u001b[0;34m\u001b[0m\u001b[0;34m\u001b[0m\u001b[0m\n\u001b[1;32m   7441\u001b[0m     \u001b[0;32mif\u001b[0m \u001b[0mmin\u001b[0m\u001b[0;34m(\u001b[0m\u001b[0mn1\u001b[0m\u001b[0;34m,\u001b[0m \u001b[0mn2\u001b[0m\u001b[0;34m)\u001b[0m \u001b[0;34m==\u001b[0m \u001b[0;36m0\u001b[0m\u001b[0;34m:\u001b[0m\u001b[0;34m\u001b[0m\u001b[0;34m\u001b[0m\u001b[0m\n\u001b[0;32m-> 7442\u001b[0;31m         \u001b[0;32mraise\u001b[0m \u001b[0mValueError\u001b[0m\u001b[0;34m(\u001b[0m\u001b[0;34m'Data passed to ks_2samp must not be empty'\u001b[0m\u001b[0;34m)\u001b[0m\u001b[0;34m\u001b[0m\u001b[0;34m\u001b[0m\u001b[0m\n\u001b[0m\u001b[1;32m   7443\u001b[0m \u001b[0;34m\u001b[0m\u001b[0m\n\u001b[1;32m   7444\u001b[0m     \u001b[0mdata_all\u001b[0m \u001b[0;34m=\u001b[0m \u001b[0mnp\u001b[0m\u001b[0;34m.\u001b[0m\u001b[0mconcatenate\u001b[0m\u001b[0;34m(\u001b[0m\u001b[0;34m[\u001b[0m\u001b[0mdata1\u001b[0m\u001b[0;34m,\u001b[0m \u001b[0mdata2\u001b[0m\u001b[0;34m]\u001b[0m\u001b[0;34m)\u001b[0m\u001b[0;34m\u001b[0m\u001b[0;34m\u001b[0m\u001b[0m\n",
      "\u001b[0;31mValueError\u001b[0m: Data passed to ks_2samp must not be empty"
     ]
    }
   ],
   "source": [
    "upper['First Name']\n",
    "lower['First Name']\n",
    "\n",
    "merged = pd.merge(\n",
    "    upper['First Name'].value_counts().to_frame(),\n",
    "    lower['First Name'].value_counts().to_frame(),\n",
    "    left_index=True,\n",
    "    right_index=True)\n",
    "\n",
    "stats.ks_2samp(merged.upper, merged.lower)"
   ]
  },
  {
   "cell_type": "code",
   "execution_count": null,
   "id": "43b96822-0dd6-4304-af66-011cf4f4ddd3",
   "metadata": {},
   "outputs": [],
   "source": []
  }
 ],
 "metadata": {
  "kernelspec": {
   "display_name": "Python 3 (ipykernel)",
   "language": "python",
   "name": "python3"
  },
  "language_info": {
   "codemirror_mode": {
    "name": "ipython",
    "version": 3
   },
   "file_extension": ".py",
   "mimetype": "text/x-python",
   "name": "python",
   "nbconvert_exporter": "python",
   "pygments_lexer": "ipython3",
   "version": "3.7.12"
  }
 },
 "nbformat": 4,
 "nbformat_minor": 5
}
